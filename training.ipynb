{
  "cells": [
    {
      "cell_type": "markdown",
      "metadata": {
        "id": "6P2C_aQmqQWx"
      },
      "source": [
        "# Making The model\n",
        "\n",
        "This was done in a colab notebook for gpu performance"
      ]
    },
    {
      "cell_type": "markdown",
      "metadata": {
        "id": "3t72Qb_IqZa4"
      },
      "source": [
        "## Loading Data"
      ]
    },
    {
      "cell_type": "code",
      "execution_count": 1,
      "metadata": {
        "id": "yR1QLY2ApvjJ"
      },
      "outputs": [],
      "source": [
        "import tensorflow as tf\n",
        "from tensorflow import keras"
      ]
    },
    {
      "cell_type": "code",
      "execution_count": 2,
      "metadata": {
        "id": "Tm6qCSr1qDRh"
      },
      "outputs": [],
      "source": [
        "from keras.utils import image_dataset_from_directory"
      ]
    },
    {
      "cell_type": "code",
      "execution_count": 3,
      "metadata": {
        "id": "cB3c9wv-qOre"
      },
      "outputs": [],
      "source": [
        "import zipfile"
      ]
    },
    {
      "cell_type": "code",
      "execution_count": 4,
      "metadata": {
        "id": "2hsSfUdKqdtg"
      },
      "outputs": [],
      "source": [
        "filePath = \"/content/drive/MyDrive/suv vs super carspartitioned data.zip\"\n",
        "\n",
        "with zipfile.ZipFile(filePath, 'r') as f:\n",
        "  f.extractall('/content/')"
      ]
    },
    {
      "cell_type": "code",
      "execution_count": 6,
      "metadata": {
        "colab": {
          "base_uri": "https://localhost:8080/"
        },
        "id": "5QKPrNMSrE23",
        "outputId": "5b1f175e-d009-42c2-d7c9-74c6558973c4"
      },
      "outputs": [
        {
          "name": "stdout",
          "output_type": "stream",
          "text": [
            "Found 7887 files belonging to 2 classes.\n",
            "Found 1051 files belonging to 2 classes.\n",
            "Found 1578 files belonging to 2 classes.\n"
          ]
        }
      ],
      "source": [
        "trainData = image_dataset_from_directory('/content/data/train')\n",
        "testData = image_dataset_from_directory('/content/data/test')\n",
        "validData = image_dataset_from_directory('/content/data/valid')"
      ]
    },
    {
      "cell_type": "code",
      "execution_count": 8,
      "metadata": {
        "colab": {
          "base_uri": "https://localhost:8080/"
        },
        "id": "_A-VBRSbrWy2",
        "outputId": "56c8d321-c1c8-4bee-fefb-cf25fc808cab"
      },
      "outputs": [
        {
          "name": "stdout",
          "output_type": "stream",
          "text": [
            "[BATCHES] Train: 247, Test: 33, Valid: 50\n"
          ]
        }
      ],
      "source": [
        "print(f\"[BATCHES] Train: {len(trainData)}, Test: {len(testData)}, Valid: {len(validData)}\")"
      ]
    },
    {
      "cell_type": "markdown",
      "metadata": {
        "id": "lzRQKDCnrrP9"
      },
      "source": [
        "## Creating Model"
      ]
    },
    {
      "cell_type": "code",
      "execution_count": 9,
      "metadata": {
        "id": "yvCHLYQxrvVV"
      },
      "outputs": [],
      "source": [
        "from keras import Sequential\n",
        "from keras.layers import Conv2D, Dense, Flatten, MaxPool2D, Dropout"
      ]
    },
    {
      "cell_type": "code",
      "execution_count": 24,
      "metadata": {
        "id": "ZcNmIQpBr7Vt"
      },
      "outputs": [],
      "source": [
        "model = Sequential([\n",
        "    Conv2D(16, 3, 1, input_shape=(256, 256, 3), activation='relu'),\n",
        "    MaxPool2D(),\n",
        "    Dropout(0.2),\n",
        "\n",
        "    Conv2D(32, 3, 1, activation='relu'),\n",
        "    MaxPool2D(),\n",
        "    Dropout(0.2),\n",
        "\n",
        "    Conv2D(16, 3, 1, activation='relu'),\n",
        "    MaxPool2D(),\n",
        "    Dropout(0.2),\n",
        "\n",
        "    Flatten(),\n",
        "\n",
        "    Dense(512, activation='relu'),\n",
        "    Dense(64, activation='relu'),\n",
        "    Dropout(0.35),\n",
        "\n",
        "    Dense(1, activation='sigmoid')\n",
        "])"
      ]
    },
    {
      "cell_type": "code",
      "execution_count": 25,
      "metadata": {
        "colab": {
          "base_uri": "https://localhost:8080/"
        },
        "id": "R_e_gY7Vsx3l",
        "outputId": "db5419da-5fdb-4b53-9566-5111f8709218"
      },
      "outputs": [
        {
          "name": "stdout",
          "output_type": "stream",
          "text": [
            "Model: \"sequential_1\"\n",
            "_________________________________________________________________\n",
            " Layer (type)                Output Shape              Param #   \n",
            "=================================================================\n",
            " conv2d_3 (Conv2D)           (None, 254, 254, 16)      448       \n",
            "                                                                 \n",
            " max_pooling2d_3 (MaxPooling  (None, 127, 127, 16)     0         \n",
            " 2D)                                                             \n",
            "                                                                 \n",
            " dropout_4 (Dropout)         (None, 127, 127, 16)      0         \n",
            "                                                                 \n",
            " conv2d_4 (Conv2D)           (None, 125, 125, 32)      4640      \n",
            "                                                                 \n",
            " max_pooling2d_4 (MaxPooling  (None, 62, 62, 32)       0         \n",
            " 2D)                                                             \n",
            "                                                                 \n",
            " dropout_5 (Dropout)         (None, 62, 62, 32)        0         \n",
            "                                                                 \n",
            " conv2d_5 (Conv2D)           (None, 60, 60, 16)        4624      \n",
            "                                                                 \n",
            " max_pooling2d_5 (MaxPooling  (None, 30, 30, 16)       0         \n",
            " 2D)                                                             \n",
            "                                                                 \n",
            " dropout_6 (Dropout)         (None, 30, 30, 16)        0         \n",
            "                                                                 \n",
            " flatten_1 (Flatten)         (None, 14400)             0         \n",
            "                                                                 \n",
            " dense_3 (Dense)             (None, 512)               7373312   \n",
            "                                                                 \n",
            " dense_4 (Dense)             (None, 64)                32832     \n",
            "                                                                 \n",
            " dropout_7 (Dropout)         (None, 64)                0         \n",
            "                                                                 \n",
            " dense_5 (Dense)             (None, 1)                 65        \n",
            "                                                                 \n",
            "=================================================================\n",
            "Total params: 7,415,921\n",
            "Trainable params: 7,415,921\n",
            "Non-trainable params: 0\n",
            "_________________________________________________________________\n"
          ]
        }
      ],
      "source": [
        "model.summary()"
      ]
    },
    {
      "cell_type": "code",
      "execution_count": 18,
      "metadata": {
        "id": "9JvfknOjs14L"
      },
      "outputs": [],
      "source": [
        "from keras.metrics import Precision\n",
        "from keras.losses import BinaryCrossentropy"
      ]
    },
    {
      "cell_type": "code",
      "execution_count": 17,
      "metadata": {
        "id": "x5kP6ikUtYg6"
      },
      "outputs": [],
      "source": [
        "model.compile??"
      ]
    },
    {
      "cell_type": "code",
      "execution_count": 26,
      "metadata": {
        "id": "2yjei1qTtqiR"
      },
      "outputs": [],
      "source": [
        "model.compile(optimizer='adam', loss=BinaryCrossentropy(), metrics=['accuracy', Precision()])"
      ]
    },
    {
      "cell_type": "code",
      "execution_count": 20,
      "metadata": {
        "id": "BWWDCcGet285"
      },
      "outputs": [],
      "source": [
        "model.fit??"
      ]
    },
    {
      "cell_type": "code",
      "execution_count": 27,
      "metadata": {
        "colab": {
          "base_uri": "https://localhost:8080/"
        },
        "id": "jSuIuErPt_wK",
        "outputId": "4f71615b-a33a-4a0d-99b8-8b8957ce32d4"
      },
      "outputs": [
        {
          "name": "stdout",
          "output_type": "stream",
          "text": [
            "Epoch 1/25\n",
            "247/247 [==============================] - 22s 75ms/step - loss: 5.7779 - accuracy: 0.5365 - precision_1: 0.5344 - val_loss: 0.6799 - val_accuracy: 0.5634 - val_precision_1: 0.6396\n",
            "Epoch 2/25\n",
            "247/247 [==============================] - 18s 72ms/step - loss: 0.6483 - accuracy: 0.6043 - precision_1: 0.6130 - val_loss: 0.6459 - val_accuracy: 0.5970 - val_precision_1: 0.7310\n",
            "Epoch 3/25\n",
            "247/247 [==============================] - 20s 81ms/step - loss: 0.5952 - accuracy: 0.6620 - precision_1: 0.6773 - val_loss: 0.6066 - val_accuracy: 0.6572 - val_precision_1: 0.7148\n",
            "Epoch 4/25\n",
            "247/247 [==============================] - 18s 70ms/step - loss: 0.5069 - accuracy: 0.7339 - precision_1: 0.7464 - val_loss: 0.5171 - val_accuracy: 0.7212 - val_precision_1: 0.7515\n",
            "Epoch 5/25\n",
            "247/247 [==============================] - 17s 67ms/step - loss: 0.4294 - accuracy: 0.7903 - precision_1: 0.7972 - val_loss: 0.4477 - val_accuracy: 0.7877 - val_precision_1: 0.8392\n",
            "Epoch 6/25\n",
            "247/247 [==============================] - 18s 71ms/step - loss: 0.3325 - accuracy: 0.8433 - precision_1: 0.8501 - val_loss: 0.3847 - val_accuracy: 0.8264 - val_precision_1: 0.8414\n",
            "Epoch 7/25\n",
            "247/247 [==============================] - 17s 67ms/step - loss: 0.2636 - accuracy: 0.8837 - precision_1: 0.8883 - val_loss: 0.3509 - val_accuracy: 0.8473 - val_precision_1: 0.8741\n",
            "Epoch 8/25\n",
            "247/247 [==============================] - 17s 68ms/step - loss: 0.2083 - accuracy: 0.9104 - precision_1: 0.9176 - val_loss: 0.3062 - val_accuracy: 0.8834 - val_precision_1: 0.8804\n",
            "Epoch 9/25\n",
            "247/247 [==============================] - 18s 71ms/step - loss: 0.1653 - accuracy: 0.9366 - precision_1: 0.9405 - val_loss: 0.2645 - val_accuracy: 0.8973 - val_precision_1: 0.9144\n",
            "Epoch 10/25\n",
            "247/247 [==============================] - 17s 66ms/step - loss: 0.1248 - accuracy: 0.9513 - precision_1: 0.9558 - val_loss: 0.2441 - val_accuracy: 0.9024 - val_precision_1: 0.9290\n",
            "Epoch 11/25\n",
            "247/247 [==============================] - 16s 65ms/step - loss: 0.0992 - accuracy: 0.9603 - precision_1: 0.9658 - val_loss: 0.2626 - val_accuracy: 0.9113 - val_precision_1: 0.9235\n",
            "Epoch 12/25\n",
            "247/247 [==============================] - 16s 64ms/step - loss: 0.0857 - accuracy: 0.9686 - precision_1: 0.9741 - val_loss: 0.2526 - val_accuracy: 0.9138 - val_precision_1: 0.9109\n",
            "Epoch 13/25\n",
            "247/247 [==============================] - 16s 65ms/step - loss: 0.0816 - accuracy: 0.9678 - precision_1: 0.9709 - val_loss: 0.3053 - val_accuracy: 0.9113 - val_precision_1: 0.9280\n",
            "Epoch 14/25\n",
            "247/247 [==============================] - 17s 70ms/step - loss: 0.0802 - accuracy: 0.9707 - precision_1: 0.9723 - val_loss: 0.3459 - val_accuracy: 0.9125 - val_precision_1: 0.9128\n",
            "Epoch 15/25\n",
            "247/247 [==============================] - 17s 70ms/step - loss: 0.0721 - accuracy: 0.9765 - precision_1: 0.9794 - val_loss: 0.3151 - val_accuracy: 0.9202 - val_precision_1: 0.9293\n",
            "Epoch 16/25\n",
            "247/247 [==============================] - 17s 67ms/step - loss: 0.0505 - accuracy: 0.9815 - precision_1: 0.9823 - val_loss: 0.3278 - val_accuracy: 0.9151 - val_precision_1: 0.9154\n",
            "Epoch 17/25\n",
            "247/247 [==============================] - 17s 69ms/step - loss: 0.0495 - accuracy: 0.9825 - precision_1: 0.9848 - val_loss: 0.3216 - val_accuracy: 0.9233 - val_precision_1: 0.9265\n",
            "Epoch 18/25\n",
            "247/247 [==============================] - 17s 69ms/step - loss: 0.0544 - accuracy: 0.9820 - precision_1: 0.9841 - val_loss: 0.4533 - val_accuracy: 0.8980 - val_precision_1: 0.9295\n",
            "Epoch 19/25\n",
            "247/247 [==============================] - 17s 68ms/step - loss: 0.0549 - accuracy: 0.9831 - precision_1: 0.9856 - val_loss: 0.3860 - val_accuracy: 0.9227 - val_precision_1: 0.9286\n",
            "Epoch 20/25\n",
            "247/247 [==============================] - 16s 64ms/step - loss: 0.0543 - accuracy: 0.9835 - precision_1: 0.9871 - val_loss: 0.3190 - val_accuracy: 0.9202 - val_precision_1: 0.9304\n",
            "Epoch 21/25\n",
            "247/247 [==============================] - 16s 64ms/step - loss: 0.0433 - accuracy: 0.9861 - precision_1: 0.9862 - val_loss: 0.2976 - val_accuracy: 0.9240 - val_precision_1: 0.9332\n",
            "Epoch 22/25\n",
            "247/247 [==============================] - 16s 64ms/step - loss: 0.0365 - accuracy: 0.9885 - precision_1: 0.9905 - val_loss: 0.4180 - val_accuracy: 0.9246 - val_precision_1: 0.9300\n",
            "Epoch 23/25\n",
            "247/247 [==============================] - 17s 68ms/step - loss: 0.0405 - accuracy: 0.9873 - precision_1: 0.9885 - val_loss: 0.3288 - val_accuracy: 0.9278 - val_precision_1: 0.9271\n",
            "Epoch 24/25\n",
            "247/247 [==============================] - 16s 65ms/step - loss: 0.0347 - accuracy: 0.9887 - precision_1: 0.9900 - val_loss: 0.3690 - val_accuracy: 0.9151 - val_precision_1: 0.9230\n",
            "Epoch 25/25\n",
            "247/247 [==============================] - 17s 66ms/step - loss: 0.0229 - accuracy: 0.9937 - precision_1: 0.9941 - val_loss: 0.4167 - val_accuracy: 0.9259 - val_precision_1: 0.9301\n"
          ]
        }
      ],
      "source": [
        "hist = model.fit(trainData, epochs=25, validation_data=validData)"
      ]
    },
    {
      "cell_type": "code",
      "execution_count": 28,
      "metadata": {
        "id": "h9Vn0eiEwJCt"
      },
      "outputs": [],
      "source": [
        "model.save('model.h5')"
      ]
    },
    {
      "cell_type": "markdown",
      "metadata": {
        "id": "tcZoIl4DwqLF"
      },
      "source": [
        "## Checking traiining data"
      ]
    },
    {
      "cell_type": "code",
      "execution_count": 31,
      "metadata": {
        "id": "tVfLP-q5wd49"
      },
      "outputs": [],
      "source": [
        "import matplotlib.pyplot as plt"
      ]
    },
    {
      "cell_type": "code",
      "execution_count": 37,
      "metadata": {
        "colab": {
          "base_uri": "https://localhost:8080/"
        },
        "id": "SsNlvKUMxPl0",
        "outputId": "e364359e-c343-4fc7-9156-1c6b7a78dc76"
      },
      "outputs": [
        {
          "data": {
            "text/plain": [
              "dict_keys(['loss', 'accuracy', 'precision_1', 'val_loss', 'val_accuracy', 'val_precision_1'])"
            ]
          },
          "execution_count": 37,
          "metadata": {},
          "output_type": "execute_result"
        }
      ],
      "source": [
        "hist.history.keys()"
      ]
    },
    {
      "cell_type": "code",
      "execution_count": 33,
      "metadata": {
        "colab": {
          "base_uri": "https://localhost:8080/",
          "height": 449
        },
        "id": "DvdoDO8NwWBu",
        "outputId": "e966ef39-395a-4f85-b15a-12f80cbb91c1"
      },
      "outputs": [
        {
          "data": {
            "text/plain": [
              "[<matplotlib.lines.Line2D at 0x7df696af43a0>]"
            ]
          },
          "execution_count": 33,
          "metadata": {},
          "output_type": "execute_result"
        },
        {
          "data": {
            "image/png": "[encoded data removed]",
            "text/plain": [
              "<Figure size 640x480 with 1 Axes>"
            ]
          },
          "metadata": {},
          "output_type": "display_data"
        }
      ],
      "source": [
        "plt.plot(hist.history['loss'])\n",
        "plt.plot(hist.history['val_loss'], color='red')"
      ]
    },
    {
      "cell_type": "code",
      "execution_count": 34,
      "metadata": {
        "colab": {
          "base_uri": "https://localhost:8080/",
          "height": 448
        },
        "id": "ZsC-ePlgxC91",
        "outputId": "141e98b4-a0bf-4b5b-a0dd-e101abd28e08"
      },
      "outputs": [
        {
          "data": {
            "text/plain": [
              "[<matplotlib.lines.Line2D at 0x7df6da981720>]"
            ]
          },
          "execution_count": 34,
          "metadata": {},
          "output_type": "execute_result"
        },
        {
          "data": {
            "image/png": "[encoded data removed]",
            "text/plain": [
              "<Figure size 640x480 with 1 Axes>"
            ]
          },
          "metadata": {},
          "output_type": "display_data"
        }
      ],
      "source": [
        "plt.plot(hist.history['accuracy'])\n",
        "plt.plot(hist.history['val_accuracy'], color='red')"
      ]
    },
    {
      "cell_type": "code",
      "execution_count": 38,
      "metadata": {
        "colab": {
          "base_uri": "https://localhost:8080/",
          "height": 448
        },
        "id": "TNjcdUHwxLZy",
        "outputId": "d3aed92d-0a10-4075-932c-0dbae9615449"
      },
      "outputs": [
        {
          "data": {
            "text/plain": [
              "[<matplotlib.lines.Line2D at 0x7df6a6f37910>]"
            ]
          },
          "execution_count": 38,
          "metadata": {},
          "output_type": "execute_result"
        },
        {
          "data": {
            "image/png": "[encoded data removed]",
            "text/plain": [
              "<Figure size 640x480 with 1 Axes>"
            ]
          },
          "metadata": {},
          "output_type": "display_data"
        }
      ],
      "source": [
        "plt.plot(hist.history['precision_1'])\n",
        "plt.plot(hist.history['val_precision_1'], color='red')"
      ]
    }
  ],
  "metadata": {
    "accelerator": "GPU",
    "colab": {
      "collapsed_sections": [
        "3t72Qb_IqZa4"
      ],
      "gpuType": "T4",
      "provenance": []
    },
    "kernelspec": {
      "display_name": "Python 3",
      "name": "python3"
    },
    "language_info": {
      "name": "python"
    }
  },
  "nbformat": 4,
  "nbformat_minor": 0
}
